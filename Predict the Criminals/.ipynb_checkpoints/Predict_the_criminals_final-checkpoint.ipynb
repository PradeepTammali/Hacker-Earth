{
 "cells": [
  {
   "cell_type": "code",
   "execution_count": 1,
   "metadata": {},
   "outputs": [],
   "source": [
    "import numpy as np  \n",
    "import pandas as pd  \n",
    "import matplotlib.pyplot as plt\n",
    "import os\n",
    "from sklearn import decomposition, preprocessing\n",
    "from sklearn.model_selection import train_test_split\n",
    "from pandas import read_csv\n",
    "from sklearn.feature_selection import RFE\n",
    "from sklearn.linear_model import LogisticRegression\n",
    "from sklearn.metrics import confusion_matrix"
   ]
  },
  {
   "cell_type": "code",
   "execution_count": 2,
   "metadata": {},
   "outputs": [],
   "source": [
    "train_path = os.getcwd() + '/criminal_train.csv'\n",
    "test_path = os.getcwd() + '/criminal_test.csv'"
   ]
  },
  {
   "cell_type": "code",
   "execution_count": 3,
   "metadata": {},
   "outputs": [],
   "source": [
    "train = pd.read_csv(train_path)\n",
    "test = pd.read_csv(test_path)"
   ]
  },
  {
   "cell_type": "code",
   "execution_count": 4,
   "metadata": {},
   "outputs": [],
   "source": [
    "# Dividing datasets to input and output variables. \n",
    "y = train['Criminal']\n",
    "X = train.drop(labels='Criminal',axis=1)"
   ]
  },
  {
   "cell_type": "code",
   "execution_count": 5,
   "metadata": {},
   "outputs": [
    {
     "data": {
      "text/html": [
       "<div>\n",
       "<style scoped>\n",
       "    .dataframe tbody tr th:only-of-type {\n",
       "        vertical-align: middle;\n",
       "    }\n",
       "\n",
       "    .dataframe tbody tr th {\n",
       "        vertical-align: top;\n",
       "    }\n",
       "\n",
       "    .dataframe thead th {\n",
       "        text-align: right;\n",
       "    }\n",
       "</style>\n",
       "<table border=\"1\" class=\"dataframe\">\n",
       "  <thead>\n",
       "    <tr style=\"text-align: right;\">\n",
       "      <th></th>\n",
       "      <th>PERID</th>\n",
       "      <th>IFATHER</th>\n",
       "      <th>NRCH17_2</th>\n",
       "      <th>IRHHSIZ2</th>\n",
       "      <th>IIHHSIZ2</th>\n",
       "      <th>IRKI17_2</th>\n",
       "      <th>IIKI17_2</th>\n",
       "      <th>IRHH65_2</th>\n",
       "      <th>IIHH65_2</th>\n",
       "      <th>PRXRETRY</th>\n",
       "      <th>...</th>\n",
       "      <th>POVERTY3</th>\n",
       "      <th>TOOLONG</th>\n",
       "      <th>TROUBUND</th>\n",
       "      <th>PDEN10</th>\n",
       "      <th>COUTYP2</th>\n",
       "      <th>MAIIN102</th>\n",
       "      <th>AIIND102</th>\n",
       "      <th>ANALWT_C</th>\n",
       "      <th>VESTR</th>\n",
       "      <th>VEREP</th>\n",
       "    </tr>\n",
       "  </thead>\n",
       "  <tbody>\n",
       "    <tr>\n",
       "      <th>0</th>\n",
       "      <td>66583679</td>\n",
       "      <td>4</td>\n",
       "      <td>0</td>\n",
       "      <td>4</td>\n",
       "      <td>1</td>\n",
       "      <td>2</td>\n",
       "      <td>1</td>\n",
       "      <td>1</td>\n",
       "      <td>1</td>\n",
       "      <td>99</td>\n",
       "      <td>...</td>\n",
       "      <td>2</td>\n",
       "      <td>2</td>\n",
       "      <td>2</td>\n",
       "      <td>1</td>\n",
       "      <td>1</td>\n",
       "      <td>2</td>\n",
       "      <td>2</td>\n",
       "      <td>16346.795400</td>\n",
       "      <td>40020</td>\n",
       "      <td>1</td>\n",
       "    </tr>\n",
       "    <tr>\n",
       "      <th>1</th>\n",
       "      <td>35494679</td>\n",
       "      <td>4</td>\n",
       "      <td>0</td>\n",
       "      <td>4</td>\n",
       "      <td>1</td>\n",
       "      <td>1</td>\n",
       "      <td>1</td>\n",
       "      <td>1</td>\n",
       "      <td>1</td>\n",
       "      <td>99</td>\n",
       "      <td>...</td>\n",
       "      <td>3</td>\n",
       "      <td>2</td>\n",
       "      <td>2</td>\n",
       "      <td>1</td>\n",
       "      <td>1</td>\n",
       "      <td>2</td>\n",
       "      <td>2</td>\n",
       "      <td>3008.863906</td>\n",
       "      <td>40044</td>\n",
       "      <td>2</td>\n",
       "    </tr>\n",
       "    <tr>\n",
       "      <th>2</th>\n",
       "      <td>79424679</td>\n",
       "      <td>2</td>\n",
       "      <td>0</td>\n",
       "      <td>3</td>\n",
       "      <td>1</td>\n",
       "      <td>2</td>\n",
       "      <td>1</td>\n",
       "      <td>1</td>\n",
       "      <td>1</td>\n",
       "      <td>99</td>\n",
       "      <td>...</td>\n",
       "      <td>1</td>\n",
       "      <td>2</td>\n",
       "      <td>2</td>\n",
       "      <td>2</td>\n",
       "      <td>2</td>\n",
       "      <td>2</td>\n",
       "      <td>2</td>\n",
       "      <td>266.952503</td>\n",
       "      <td>40040</td>\n",
       "      <td>2</td>\n",
       "    </tr>\n",
       "    <tr>\n",
       "      <th>3</th>\n",
       "      <td>11744679</td>\n",
       "      <td>4</td>\n",
       "      <td>0</td>\n",
       "      <td>6</td>\n",
       "      <td>1</td>\n",
       "      <td>2</td>\n",
       "      <td>1</td>\n",
       "      <td>1</td>\n",
       "      <td>1</td>\n",
       "      <td>99</td>\n",
       "      <td>...</td>\n",
       "      <td>3</td>\n",
       "      <td>2</td>\n",
       "      <td>2</td>\n",
       "      <td>1</td>\n",
       "      <td>1</td>\n",
       "      <td>2</td>\n",
       "      <td>2</td>\n",
       "      <td>5386.928199</td>\n",
       "      <td>40017</td>\n",
       "      <td>1</td>\n",
       "    </tr>\n",
       "    <tr>\n",
       "      <th>4</th>\n",
       "      <td>31554679</td>\n",
       "      <td>1</td>\n",
       "      <td>0</td>\n",
       "      <td>4</td>\n",
       "      <td>1</td>\n",
       "      <td>3</td>\n",
       "      <td>1</td>\n",
       "      <td>1</td>\n",
       "      <td>1</td>\n",
       "      <td>99</td>\n",
       "      <td>...</td>\n",
       "      <td>3</td>\n",
       "      <td>2</td>\n",
       "      <td>1</td>\n",
       "      <td>1</td>\n",
       "      <td>1</td>\n",
       "      <td>2</td>\n",
       "      <td>2</td>\n",
       "      <td>173.489895</td>\n",
       "      <td>40017</td>\n",
       "      <td>1</td>\n",
       "    </tr>\n",
       "  </tbody>\n",
       "</table>\n",
       "<p>5 rows × 71 columns</p>\n",
       "</div>"
      ],
      "text/plain": [
       "      PERID  IFATHER  NRCH17_2  IRHHSIZ2  IIHHSIZ2  IRKI17_2  IIKI17_2  \\\n",
       "0  66583679        4         0         4         1         2         1   \n",
       "1  35494679        4         0         4         1         1         1   \n",
       "2  79424679        2         0         3         1         2         1   \n",
       "3  11744679        4         0         6         1         2         1   \n",
       "4  31554679        1         0         4         1         3         1   \n",
       "\n",
       "   IRHH65_2  IIHH65_2  PRXRETRY  ...    POVERTY3  TOOLONG  TROUBUND  PDEN10  \\\n",
       "0         1         1        99  ...           2        2         2       1   \n",
       "1         1         1        99  ...           3        2         2       1   \n",
       "2         1         1        99  ...           1        2         2       2   \n",
       "3         1         1        99  ...           3        2         2       1   \n",
       "4         1         1        99  ...           3        2         1       1   \n",
       "\n",
       "   COUTYP2  MAIIN102  AIIND102      ANALWT_C  VESTR  VEREP  \n",
       "0        1         2         2  16346.795400  40020      1  \n",
       "1        1         2         2   3008.863906  40044      2  \n",
       "2        2         2         2    266.952503  40040      2  \n",
       "3        1         2         2   5386.928199  40017      1  \n",
       "4        1         2         2    173.489895  40017      1  \n",
       "\n",
       "[5 rows x 71 columns]"
      ]
     },
     "execution_count": 5,
     "metadata": {},
     "output_type": "execute_result"
    }
   ],
   "source": [
    "if 'Criminal' in test.columns:\n",
    "    X_test = test.drop(labels='Criminal',axis=1)\n",
    "else:\n",
    "    X_test = test\n",
    "X_test.head()"
   ]
  },
  {
   "cell_type": "code",
   "execution_count": 6,
   "metadata": {},
   "outputs": [],
   "source": [
    "if 'NRCH17_2' in X.columns:\n",
    "    del X['NRCH17_2']\n",
    "    \n",
    "if 'PERID' in X.columns:\n",
    "    del X['PERID']\n",
    "    \n",
    "if 'ANALWT_C' in X.columns:\n",
    "    del X['ANALWT_C']\n",
    "    \n",
    "if 'NRCH17_2' in X_test.columns:\n",
    "    del X_test['NRCH17_2']\n",
    "    \n",
    "if 'PERID' in X_test.columns:\n",
    "    X_test_PERID = X_test['PERID']\n",
    "    del X_test['PERID']\n",
    "    \n",
    "if 'ANALWT_C' in X_test.columns:\n",
    "    del X_test['ANALWT_C']"
   ]
  },
  {
   "cell_type": "code",
   "execution_count": 7,
   "metadata": {},
   "outputs": [
    {
     "name": "stdout",
     "output_type": "stream",
     "text": [
      "IFATHER      0\n",
      "IRHHSIZ2     0\n",
      "IIHHSIZ2     0\n",
      "IRKI17_2     0\n",
      "IIKI17_2     0\n",
      "IRHH65_2     0\n",
      "IIHH65_2     0\n",
      "PRXRETRY     0\n",
      "PRXYDATA     0\n",
      "MEDICARE     0\n",
      "CAIDCHIP     0\n",
      "CHAMPUS      0\n",
      "PRVHLTIN     0\n",
      "GRPHLTIN     0\n",
      "HLTINNOS     0\n",
      "HLCNOTYR     0\n",
      "HLCNOTMO     0\n",
      "HLCLAST      0\n",
      "HLLOSRSN     0\n",
      "HLNVCOST     0\n",
      "HLNVOFFR     0\n",
      "HLNVREF      0\n",
      "HLNVNEED     0\n",
      "HLNVSOR      0\n",
      "IRMCDCHP     0\n",
      "IIMCDCHP     0\n",
      "IRMEDICR     0\n",
      "IIMEDICR     0\n",
      "IRCHMPUS     0\n",
      "IICHMPUS     0\n",
      "            ..\n",
      "IIINSUR4     0\n",
      "OTHINS       0\n",
      "CELLNOTCL    0\n",
      "CELLWRKNG    0\n",
      "IRFAMSOC     0\n",
      "IIFAMSOC     0\n",
      "IRFAMSSI     0\n",
      "IIFAMSSI     0\n",
      "IRFSTAMP     0\n",
      "IIFSTAMP     0\n",
      "IRFAMPMT     0\n",
      "IIFAMPMT     0\n",
      "IRFAMSVC     0\n",
      "IIFAMSVC     0\n",
      "IRWELMOS     0\n",
      "IIWELMOS     0\n",
      "IRPINC3      0\n",
      "IRFAMIN3     0\n",
      "IIPINC3      0\n",
      "IIFAMIN3     0\n",
      "GOVTPROG     0\n",
      "POVERTY3     0\n",
      "TOOLONG      0\n",
      "TROUBUND     0\n",
      "PDEN10       0\n",
      "COUTYP2      0\n",
      "MAIIN102     0\n",
      "AIIND102     0\n",
      "VESTR        0\n",
      "VEREP        0\n",
      "Length: 68, dtype: int64\n",
      "IFATHER      0\n",
      "IRHHSIZ2     0\n",
      "IIHHSIZ2     0\n",
      "IRKI17_2     0\n",
      "IIKI17_2     0\n",
      "IRHH65_2     0\n",
      "IIHH65_2     0\n",
      "PRXRETRY     0\n",
      "PRXYDATA     0\n",
      "MEDICARE     0\n",
      "CAIDCHIP     0\n",
      "CHAMPUS      0\n",
      "PRVHLTIN     0\n",
      "GRPHLTIN     0\n",
      "HLTINNOS     0\n",
      "HLCNOTYR     0\n",
      "HLCNOTMO     0\n",
      "HLCLAST      0\n",
      "HLLOSRSN     0\n",
      "HLNVCOST     0\n",
      "HLNVOFFR     0\n",
      "HLNVREF      0\n",
      "HLNVNEED     0\n",
      "HLNVSOR      0\n",
      "IRMCDCHP     0\n",
      "IIMCDCHP     0\n",
      "IRMEDICR     0\n",
      "IIMEDICR     0\n",
      "IRCHMPUS     0\n",
      "IICHMPUS     0\n",
      "            ..\n",
      "IIINSUR4     0\n",
      "OTHINS       0\n",
      "CELLNOTCL    0\n",
      "CELLWRKNG    0\n",
      "IRFAMSOC     0\n",
      "IIFAMSOC     0\n",
      "IRFAMSSI     0\n",
      "IIFAMSSI     0\n",
      "IRFSTAMP     0\n",
      "IIFSTAMP     0\n",
      "IRFAMPMT     0\n",
      "IIFAMPMT     0\n",
      "IRFAMSVC     0\n",
      "IIFAMSVC     0\n",
      "IRWELMOS     0\n",
      "IIWELMOS     0\n",
      "IRPINC3      0\n",
      "IRFAMIN3     0\n",
      "IIPINC3      0\n",
      "IIFAMIN3     0\n",
      "GOVTPROG     0\n",
      "POVERTY3     0\n",
      "TOOLONG      0\n",
      "TROUBUND     0\n",
      "PDEN10       0\n",
      "COUTYP2      0\n",
      "MAIIN102     0\n",
      "AIIND102     0\n",
      "VESTR        0\n",
      "VEREP        0\n",
      "Length: 68, dtype: int64\n"
     ]
    }
   ],
   "source": [
    "column = list(X.columns)\n",
    "# mark zero values as missing or NaN\n",
    "X[column] = X[column].replace(0, np.NAN)\n",
    "# count the number of NaN values in each column\n",
    "print(X.isnull().sum())\n",
    "\n",
    "column = list(X_test.columns)\n",
    "# mark zero values as missing or NaN\n",
    "X_test[column] = X_test[column].replace(0, np.NAN)\n",
    "# count the number of NaN values in each column\n",
    "print(X_test.isnull().sum())"
   ]
  },
  {
   "cell_type": "code",
   "execution_count": 9,
   "metadata": {},
   "outputs": [],
   "source": [
    "#diving input training dataset into train and valdiation datasets\n",
    "X_train, X_val = train_test_split(X,test_size=0.1,train_size=0.9)\n",
    "\n",
    "#diving output training dataset into train and valdiation datasets\n",
    "y_train, y_val = train_test_split(y,test_size=0.1,train_size=0.9)\n",
    "\n",
    "X_train = X\n",
    "y_train = y"
   ]
  },
  {
   "cell_type": "code",
   "execution_count": 10,
   "metadata": {},
   "outputs": [
    {
     "name": "stdout",
     "output_type": "stream",
     "text": [
      "Num Features:  12\n",
      "Selected Features:  [ True False False False False False False False False False False False\n",
      " False False False False False False False False False False False False\n",
      " False  True  True False False False  True  True False  True False False\n",
      " False  True  True  True False False  True False False  True False False\n",
      " False False False False False False False  True False False False False\n",
      " False False False False False False False False]\n",
      "Feature Ranking:  [ 1 17 50  6 20  9 15 56 41 49 55 28 24 25 26 32 46 31 52 54 44 43 47 53\n",
      " 21  1  1 27 22  8  1  1 30  1 29 38 45  1  1  1 40 48  1 14 37  1 12  2\n",
      " 39 42 33  3 51 34  4  1 11 10 13  5 36 35 18 19 23  7 57 16]\n"
     ]
    }
   ],
   "source": [
    "model = LogisticRegression()\n",
    "rfe = RFE(model, 12)\n",
    "fit = rfe.fit(X_train, y_train)\n",
    "print(\"Num Features: \", fit.n_features_) \n",
    "print(\"Selected Features: \", fit.support_)\n",
    "print(\"Feature Ranking: \", fit.ranking_) "
   ]
  },
  {
   "cell_type": "code",
   "execution_count": 11,
   "metadata": {},
   "outputs": [],
   "source": [
    "columns = X_train.columns\n",
    "# Removing un important features from training set\n",
    "for i in range(len(columns)):\n",
    "    if not fit.support_[i]:\n",
    "        if columns[i] in X_train.columns:\n",
    "            del X_train[columns[i]]\n",
    "        if columns[i] in X_val.columns:\n",
    "            del X_val[columns[i]]\n",
    "\n",
    "columns = X_test.columns\n",
    "# Removing un important features from training set\n",
    "for i in range(len(columns)):\n",
    "    if not fit.support_[i]:\n",
    "        if columns[i] in X_test.columns:\n",
    "            del X_test[columns[i]]"
   ]
  },
  {
   "cell_type": "code",
   "execution_count": 12,
   "metadata": {},
   "outputs": [
    {
     "data": {
      "text/plain": [
       "(Index(['IFATHER', 'IIMCDCHP', 'IRMEDICR', 'IRPRVHLT', 'IIPRVHLT', 'IIOTHHLT',\n",
       "        'IRINSUR4', 'IIINSUR4', 'OTHINS', 'IRFAMSOC', 'IIFAMSSI', 'IRFAMIN3'],\n",
       "       dtype='object'),\n",
       " Index(['IFATHER', 'IIMCDCHP', 'IRMEDICR', 'IRPRVHLT', 'IIPRVHLT', 'IIOTHHLT',\n",
       "        'IRINSUR4', 'IIINSUR4', 'OTHINS', 'IRFAMSOC', 'IIFAMSSI', 'IRFAMIN3'],\n",
       "       dtype='object'))"
      ]
     },
     "execution_count": 12,
     "metadata": {},
     "output_type": "execute_result"
    }
   ],
   "source": [
    "X_train.columns, X_test.columns"
   ]
  },
  {
   "cell_type": "code",
   "execution_count": 13,
   "metadata": {},
   "outputs": [
    {
     "data": {
      "text/plain": [
       "((4572, 12), (45718, 12), (4572,), (45718,), (11430, 12))"
      ]
     },
     "execution_count": 13,
     "metadata": {},
     "output_type": "execute_result"
    }
   ],
   "source": [
    "X_val.shape, X_train.shape, y_val.shape, y_train.shape, X_test.shape"
   ]
  },
  {
   "cell_type": "code",
   "execution_count": 14,
   "metadata": {},
   "outputs": [
    {
     "data": {
      "text/plain": [
       "LogisticRegression(C=1.0, class_weight=None, dual=False, fit_intercept=True,\n",
       "          intercept_scaling=1, max_iter=100, multi_class='ovr', n_jobs=1,\n",
       "          penalty='l2', random_state=None, solver='liblinear', tol=0.0001,\n",
       "          verbose=0, warm_start=False)"
      ]
     },
     "execution_count": 14,
     "metadata": {},
     "output_type": "execute_result"
    }
   ],
   "source": [
    "LogReg = LogisticRegression()\n",
    "LogReg.fit(X_train, y_train)"
   ]
  },
  {
   "cell_type": "code",
   "execution_count": 15,
   "metadata": {},
   "outputs": [],
   "source": [
    "y_val_pred = LogReg.predict(X_val)\n",
    "y_test_pred = LogReg.predict(X_test)"
   ]
  },
  {
   "cell_type": "code",
   "execution_count": 16,
   "metadata": {},
   "outputs": [
    {
     "data": {
      "text/plain": [
       "(0.9391268209457981, 0.9118547681539807)"
      ]
     },
     "execution_count": 16,
     "metadata": {},
     "output_type": "execute_result"
    }
   ],
   "source": [
    "LogReg.score(X_train, y_train), LogReg.score(X_val, y_val)"
   ]
  },
  {
   "cell_type": "code",
   "execution_count": 18,
   "metadata": {},
   "outputs": [
    {
     "ename": "TypeError",
     "evalue": "'numpy.ndarray' object is not callable",
     "output_type": "error",
     "traceback": [
      "\u001b[0;31m---------------------------------------------------------------------------\u001b[0m",
      "\u001b[0;31mTypeError\u001b[0m                                 Traceback (most recent call last)",
      "\u001b[0;32m<ipython-input-18-7db8dd7c0a11>\u001b[0m in \u001b[0;36m<module>\u001b[0;34m()\u001b[0m\n\u001b[0;32m----> 1\u001b[0;31m \u001b[0mconfusion_matrix\u001b[0m \u001b[0;34m=\u001b[0m \u001b[0mconfusion_matrix\u001b[0m\u001b[0;34m(\u001b[0m\u001b[0my_val\u001b[0m\u001b[0;34m,\u001b[0m \u001b[0my_val_pred\u001b[0m\u001b[0;34m)\u001b[0m\u001b[0;34m\u001b[0m\u001b[0m\n\u001b[0m\u001b[1;32m      2\u001b[0m \u001b[0mconfusion_matrix\u001b[0m\u001b[0;34m\u001b[0m\u001b[0m\n",
      "\u001b[0;31mTypeError\u001b[0m: 'numpy.ndarray' object is not callable"
     ]
    }
   ],
   "source": [
    "confusion_matrix = confusion_matrix(y_val, y_val_pred)\n",
    "confusion_matrix"
   ]
  },
  {
   "cell_type": "code",
   "execution_count": 30,
   "metadata": {},
   "outputs": [
    {
     "data": {
      "text/plain": [
       "((11430,), (11430, 13))"
      ]
     },
     "execution_count": 30,
     "metadata": {},
     "output_type": "execute_result"
    }
   ],
   "source": [
    "y_test_pred.shape, X_test.shape"
   ]
  },
  {
   "cell_type": "code",
   "execution_count": 20,
   "metadata": {},
   "outputs": [],
   "source": [
    "X_test['Criminal'] = y_test_pred"
   ]
  },
  {
   "cell_type": "code",
   "execution_count": 51,
   "metadata": {},
   "outputs": [
    {
     "data": {
      "text/plain": [
       "(pandas.core.series.Series, numpy.ndarray)"
      ]
     },
     "execution_count": 51,
     "metadata": {},
     "output_type": "execute_result"
    }
   ],
   "source": [
    "type(X_test_PERID), type(y_test_pred)"
   ]
  },
  {
   "cell_type": "code",
   "execution_count": 53,
   "metadata": {},
   "outputs": [],
   "source": [
    "final_dataframe = pd.DataFrame(X_test_PERID)"
   ]
  },
  {
   "cell_type": "code",
   "execution_count": 55,
   "metadata": {},
   "outputs": [],
   "source": [
    "final_dataframe['Criminal'] = y_test_pred"
   ]
  },
  {
   "cell_type": "code",
   "execution_count": 62,
   "metadata": {},
   "outputs": [
    {
     "data": {
      "text/html": [
       "<div>\n",
       "<style scoped>\n",
       "    .dataframe tbody tr th:only-of-type {\n",
       "        vertical-align: middle;\n",
       "    }\n",
       "\n",
       "    .dataframe tbody tr th {\n",
       "        vertical-align: top;\n",
       "    }\n",
       "\n",
       "    .dataframe thead th {\n",
       "        text-align: right;\n",
       "    }\n",
       "</style>\n",
       "<table border=\"1\" class=\"dataframe\">\n",
       "  <thead>\n",
       "    <tr style=\"text-align: right;\">\n",
       "      <th></th>\n",
       "      <th>PERID</th>\n",
       "      <th>Criminal</th>\n",
       "    </tr>\n",
       "  </thead>\n",
       "  <tbody>\n",
       "    <tr>\n",
       "      <th>0</th>\n",
       "      <td>66583679</td>\n",
       "      <td>0</td>\n",
       "    </tr>\n",
       "    <tr>\n",
       "      <th>1</th>\n",
       "      <td>35494679</td>\n",
       "      <td>0</td>\n",
       "    </tr>\n",
       "    <tr>\n",
       "      <th>2</th>\n",
       "      <td>79424679</td>\n",
       "      <td>0</td>\n",
       "    </tr>\n",
       "    <tr>\n",
       "      <th>3</th>\n",
       "      <td>11744679</td>\n",
       "      <td>0</td>\n",
       "    </tr>\n",
       "    <tr>\n",
       "      <th>4</th>\n",
       "      <td>31554679</td>\n",
       "      <td>0</td>\n",
       "    </tr>\n",
       "  </tbody>\n",
       "</table>\n",
       "</div>"
      ],
      "text/plain": [
       "      PERID  Criminal\n",
       "0  66583679         0\n",
       "1  35494679         0\n",
       "2  79424679         0\n",
       "3  11744679         0\n",
       "4  31554679         0"
      ]
     },
     "execution_count": 62,
     "metadata": {},
     "output_type": "execute_result"
    }
   ],
   "source": [
    "final_dataframe.head()"
   ]
  },
  {
   "cell_type": "code",
   "execution_count": 63,
   "metadata": {},
   "outputs": [],
   "source": [
    "final_dataframe.to_csv('submission_26-03-2018.csv', index=False)"
   ]
  },
  {
   "cell_type": "code",
   "execution_count": null,
   "metadata": {},
   "outputs": [],
   "source": []
  }
 ],
 "metadata": {
  "kernelspec": {
   "display_name": "Python 3",
   "language": "python",
   "name": "python3"
  },
  "language_info": {
   "codemirror_mode": {
    "name": "ipython",
    "version": 3
   },
   "file_extension": ".py",
   "mimetype": "text/x-python",
   "name": "python",
   "nbconvert_exporter": "python",
   "pygments_lexer": "ipython3",
   "version": "3.5.2"
  }
 },
 "nbformat": 4,
 "nbformat_minor": 2
}
